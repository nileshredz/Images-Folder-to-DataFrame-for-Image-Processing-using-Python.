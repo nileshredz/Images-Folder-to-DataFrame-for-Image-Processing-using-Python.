{
 "cells": [
  {
   "cell_type": "markdown",
   "metadata": {},
   "source": [
    "Let us First Import all the Libraries:"
   ]
  },
  {
   "cell_type": "code",
   "execution_count": 4,
   "metadata": {},
   "outputs": [],
   "source": [
    "import numpy as np\n",
    "import pandas as pd\n",
    "import os\n",
    "from PIL import Image"
   ]
  },
  {
   "cell_type": "markdown",
   "metadata": {},
   "source": [
    "Let us Look at the Current Working Directory."
   ]
  },
  {
   "cell_type": "code",
   "execution_count": 7,
   "metadata": {},
   "outputs": [
    {
     "data": {
      "text/plain": [
       "'C:\\\\Back Ups Gateway\\\\EXTC\\\\SEM 6\\\\IPMV\\\\Mini Project\\\\Happy'"
      ]
     },
     "execution_count": 7,
     "metadata": {},
     "output_type": "execute_result"
    }
   ],
   "source": [
    "os.getcwd()"
   ]
  },
  {
   "cell_type": "markdown",
   "metadata": {},
   "source": [
    "Incase the Directory needs to be change we use Copy the Address of the Desired path and paste it."
   ]
  },
  {
   "cell_type": "code",
   "execution_count": 6,
   "metadata": {},
   "outputs": [],
   "source": [
    "os.chdir('C:\\Back Ups Gateway\\EXTC\\SEM 6\\IPMV\\Mini Project\\Happy')"
   ]
  },
  {
   "cell_type": "markdown",
   "metadata": {},
   "source": [
    "This will give you the names of the file with the extension."
   ]
  },
  {
   "cell_type": "code",
   "execution_count": 8,
   "metadata": {},
   "outputs": [
    {
     "name": "stdout",
     "output_type": "stream",
     "text": [
      "['happy1.jpeg', 'happy10.jpg', 'happy11.jpg', 'happy12.jpg', 'happy2.jpg', 'happy3.jpg', 'happy4.jpg', 'happy5.jfif', 'happy6.jfif', 'happy7.jpg', 'happy8.jpg', 'happy9.jpeg']\n"
     ]
    }
   ],
   "source": [
    "lis=os.listdir('.')\n",
    "print(lis)\n"
   ]
  },
  {
   "cell_type": "markdown",
   "metadata": {},
   "source": [
    "We created a loop to add all the name and their respective pixels to the variable im and pix and later append those to variable name and pixel."
   ]
  },
  {
   "cell_type": "code",
   "execution_count": 9,
   "metadata": {},
   "outputs": [
    {
     "name": "stdout",
     "output_type": "stream",
     "text": [
      "Image:happy1.jpeg\n",
      "Image:happy10.jpg\n",
      "Image:happy11.jpg\n",
      "Image:happy12.jpg\n",
      "Image:happy2.jpg\n",
      "Image:happy3.jpg\n",
      "Image:happy4.jpg\n",
      "Image:happy5.jfif\n",
      "Image:happy6.jfif\n",
      "Image:happy7.jpg\n",
      "Image:happy8.jpg\n",
      "Image:happy9.jpeg\n"
     ]
    }
   ],
   "source": [
    "pixel=[]\n",
    "name=[]\n",
    "for i in lis:\n",
    "    print(f'Image:{i}')\n",
    "    \n",
    "    im=Image.open(i)\n",
    "    name.append(i)\n",
    "    pix=np.asarray(im)\n",
    "    pixel.append(pix)\n",
    "    \n",
    "    \n",
    "\n",
    "\n"
   ]
  },
  {
   "cell_type": "markdown",
   "metadata": {},
   "source": [
    "Let us Create Datasets and Concat them using pandas.concat()."
   ]
  },
  {
   "cell_type": "code",
   "execution_count": 10,
   "metadata": {},
   "outputs": [],
   "source": [
    "IPMV_dataset=pd.DataFrame({'Pixels:':pixel})"
   ]
  },
  {
   "cell_type": "code",
   "execution_count": 11,
   "metadata": {},
   "outputs": [
    {
     "data": {
      "text/html": [
       "<div>\n",
       "<style scoped>\n",
       "    .dataframe tbody tr th:only-of-type {\n",
       "        vertical-align: middle;\n",
       "    }\n",
       "\n",
       "    .dataframe tbody tr th {\n",
       "        vertical-align: top;\n",
       "    }\n",
       "\n",
       "    .dataframe thead th {\n",
       "        text-align: right;\n",
       "    }\n",
       "</style>\n",
       "<table border=\"1\" class=\"dataframe\">\n",
       "  <thead>\n",
       "    <tr style=\"text-align: right;\">\n",
       "      <th></th>\n",
       "      <th>Pixels:</th>\n",
       "    </tr>\n",
       "  </thead>\n",
       "  <tbody>\n",
       "    <tr>\n",
       "      <td>0</td>\n",
       "      <td>[[10, 10, 10, 10, 10, 10, 10, 10, 10, 18, 18, ...</td>\n",
       "    </tr>\n",
       "    <tr>\n",
       "      <td>1</td>\n",
       "      <td>[[[149, 210, 211], [149, 210, 211], [149, 210,...</td>\n",
       "    </tr>\n",
       "    <tr>\n",
       "      <td>2</td>\n",
       "      <td>[[[0, 0, 0], [0, 0, 0], [0, 0, 0], [0, 0, 0], ...</td>\n",
       "    </tr>\n",
       "    <tr>\n",
       "      <td>3</td>\n",
       "      <td>[[[255, 255, 255], [255, 255, 255], [255, 255,...</td>\n",
       "    </tr>\n",
       "    <tr>\n",
       "      <td>4</td>\n",
       "      <td>[[[204, 215, 198], [204, 215, 198], [204, 215,...</td>\n",
       "    </tr>\n",
       "  </tbody>\n",
       "</table>\n",
       "</div>"
      ],
      "text/plain": [
       "                                             Pixels:\n",
       "0  [[10, 10, 10, 10, 10, 10, 10, 10, 10, 18, 18, ...\n",
       "1  [[[149, 210, 211], [149, 210, 211], [149, 210,...\n",
       "2  [[[0, 0, 0], [0, 0, 0], [0, 0, 0], [0, 0, 0], ...\n",
       "3  [[[255, 255, 255], [255, 255, 255], [255, 255,...\n",
       "4  [[[204, 215, 198], [204, 215, 198], [204, 215,..."
      ]
     },
     "execution_count": 11,
     "metadata": {},
     "output_type": "execute_result"
    }
   ],
   "source": [
    "IPMV_dataset.head()"
   ]
  },
  {
   "cell_type": "code",
   "execution_count": 12,
   "metadata": {},
   "outputs": [],
   "source": [
    "IPMV_dataset.to_csv('IPMV_dataset.csv',index=False)"
   ]
  },
  {
   "cell_type": "code",
   "execution_count": 13,
   "metadata": {},
   "outputs": [
    {
     "name": "stdout",
     "output_type": "stream",
     "text": [
      "<class 'list'>\n"
     ]
    }
   ],
   "source": [
    "type(name)\n",
    "print(type(pixel))"
   ]
  },
  {
   "cell_type": "code",
   "execution_count": 14,
   "metadata": {},
   "outputs": [],
   "source": [
    "IPMV_dataset1=pd.DataFrame({'Image_name:' :name })"
   ]
  },
  {
   "cell_type": "code",
   "execution_count": 15,
   "metadata": {},
   "outputs": [],
   "source": [
    "IPMV=pd.concat([IPMV_dataset,IPMV_dataset1],axis=1)"
   ]
  },
  {
   "cell_type": "code",
   "execution_count": null,
   "metadata": {},
   "outputs": [],
   "source": []
  },
  {
   "cell_type": "code",
   "execution_count": 36,
   "metadata": {},
   "outputs": [
    {
     "name": "stdout",
     "output_type": "stream",
     "text": [
      "Image:happy1.jpeg\n",
      "Image:happy10.jpg\n",
      "Image:happy11.jpg\n",
      "Image:happy12.jpg\n",
      "Image:happy2.jpg\n",
      "Image:happy3.jpg\n",
      "Image:happy4.jpg\n",
      "Image:happy5.jfif\n",
      "Image:happy6.jfif\n",
      "Image:happy7.jpg\n",
      "Image:happy8.jpg\n",
      "Image:happy9.jpeg\n"
     ]
    }
   ],
   "source": [
    "IPMV.to_csv('IPMV.csv',index=False)"
   ]
  },
  {
   "cell_type": "code",
   "execution_count": null,
   "metadata": {},
   "outputs": [],
   "source": []
  },
  {
   "cell_type": "code",
   "execution_count": null,
   "metadata": {},
   "outputs": [],
   "source": []
  },
  {
   "cell_type": "code",
   "execution_count": null,
   "metadata": {},
   "outputs": [],
   "source": []
  },
  {
   "cell_type": "code",
   "execution_count": 17,
   "metadata": {},
   "outputs": [],
   "source": []
  },
  {
   "cell_type": "code",
   "execution_count": null,
   "metadata": {},
   "outputs": [],
   "source": []
  },
  {
   "cell_type": "code",
   "execution_count": 4,
   "metadata": {},
   "outputs": [],
   "source": []
  },
  {
   "cell_type": "code",
   "execution_count": null,
   "metadata": {},
   "outputs": [],
   "source": []
  },
  {
   "cell_type": "code",
   "execution_count": null,
   "metadata": {},
   "outputs": [],
   "source": []
  }
 ],
 "metadata": {
  "kernelspec": {
   "display_name": "Python 3",
   "language": "python",
   "name": "python3"
  },
  "language_info": {
   "codemirror_mode": {
    "name": "ipython",
    "version": 3
   },
   "file_extension": ".py",
   "mimetype": "text/x-python",
   "name": "python",
   "nbconvert_exporter": "python",
   "pygments_lexer": "ipython3",
   "version": "3.7.4"
  }
 },
 "nbformat": 4,
 "nbformat_minor": 4
}
